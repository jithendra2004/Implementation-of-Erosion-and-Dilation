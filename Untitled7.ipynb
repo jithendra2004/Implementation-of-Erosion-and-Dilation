{
 "cells": [
  {
   "cell_type": "code",
   "execution_count": null,
   "id": "f6fe0704-a5b1-4ac3-bad7-28db47790baa",
   "metadata": {},
   "outputs": [],
   "source": [
    "import cv2\n",
    "import numpy as np\n",
    "import matplotlib.pyplot as plt\n",
    "image= np.zeros((100,400),dtype='uint8')\n",
    "font = cv2.FONT_HERSHEY_SIMPLEX\n",
    "cv2.putText(image,'JITHENDRA',(5,70), font,2,(255),5,cv2.LINE_AA)\n",
    "cv2.imshow(\"Name\",image)\n",
    "kernel1 = cv2.getStructuringElement(cv2.MORPH_CROSS,(7,7))\n",
    "erodeImage = cv2.erode(image,kernel1)\n",
    "cv2.imshow(\"Erode Image\",erodeImage)\n",
    "dilationImage = cv2.dilate(image,kernel1)\n",
    "cv2.imshow(\"Dilated Image\",dilationImage)\n",
    "cv2.waitKey(0)\n",
    "cv2.DestroyAllWindows\n",
    "\n",
    "\n",
    "\n"
   ]
  },
  {
   "cell_type": "code",
   "execution_count": null,
   "id": "c222683e-f32f-4739-92a2-b9136a8bb86c",
   "metadata": {},
   "outputs": [],
   "source": []
  }
 ],
 "metadata": {
  "kernelspec": {
   "display_name": "Python 3 (ipykernel)",
   "language": "python",
   "name": "python3"
  },
  "language_info": {
   "codemirror_mode": {
    "name": "ipython",
    "version": 3
   },
   "file_extension": ".py",
   "mimetype": "text/x-python",
   "name": "python",
   "nbconvert_exporter": "python",
   "pygments_lexer": "ipython3",
   "version": "3.9.7"
  }
 },
 "nbformat": 4,
 "nbformat_minor": 5
}
